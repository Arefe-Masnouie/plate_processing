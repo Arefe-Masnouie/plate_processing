{
 "cells": [
  {
   "cell_type": "code",
   "execution_count": 24,
   "metadata": {},
   "outputs": [],
   "source": [
    "import cv2\n",
    "import numpy as np\n",
    "import os"
   ]
  },
  {
   "cell_type": "code",
   "execution_count": 19,
   "metadata": {},
   "outputs": [
    {
     "name": "stdout",
     "output_type": "stream",
     "text": [
      "Image loaded successfully.\n"
     ]
    }
   ],
   "source": [
    "#reading the image \n",
    "im = cv2.imread('pelak/1/1 (1).jpg')\n",
    "\n",
    "# check if the image was loaded successfully\n",
    "if im is None:\n",
    "\tprint(\"Failed to load the image.\")\n",
    "else:\n",
    "\tprint(\"Image loaded successfully.\")"
   ]
  },
  {
   "cell_type": "code",
   "execution_count": 20,
   "metadata": {},
   "outputs": [],
   "source": [
    "#displaying the image\n",
    "\n",
    "cv2.imshow('image', im)\n",
    "cv2.waitKey(0)\n",
    "cv2.destroyAllWindows()"
   ]
  },
  {
   "cell_type": "code",
   "execution_count": null,
   "metadata": {},
   "outputs": [
    {
     "name": "stdout",
     "output_type": "stream",
     "text": [
      "['1 (1).jpg', '1 (10).jpg', '1 (100).jpg', '1 (101).jpg', '1 (102).jpg', '1 (103).jpg', '1 (104).jpg', '1 (105).jpg', '1 (106).jpg', '1 (107).jpg', '1 (108).jpg', '1 (109).jpg', '1 (11).jpg', '1 (110).jpg', '1 (111).jpg', '1 (112).jpg', '1 (113).jpg', '1 (114).jpg', '1 (115).jpg', '1 (116).jpg', '1 (117).jpg', '1 (118).jpg', '1 (119).jpg', '1 (12).jpg', '1 (120).jpg', '1 (121).jpg', '1 (122).jpg', '1 (123).jpg', '1 (124).jpg', '1 (125).jpg', '1 (126).jpg', '1 (127).jpg', '1 (128).jpg', '1 (129).jpg', '1 (13).jpg', '1 (130).jpg', '1 (131).jpg', '1 (132).jpg', '1 (133).jpg', '1 (134).jpg', '1 (135).jpg', '1 (136).jpg', '1 (137).jpg', '1 (138).jpg', '1 (139).jpg', '1 (14).jpg', '1 (140).jpg', '1 (141).jpg', '1 (142).jpg', '1 (143).jpg', '1 (144).jpg', '1 (145).jpg', '1 (146).jpg', '1 (147).jpg', '1 (148).jpg', '1 (149).jpg', '1 (15).jpg', '1 (150).jpg', '1 (151).jpg', '1 (152).jpg', '1 (153).jpg', '1 (154).jpg', '1 (155).jpg', '1 (156).jpg', '1 (157).jpg', '1 (158).jpg', '1 (159).jpg', '1 (16).jpg', '1 (160).jpg', '1 (161).jpg', '1 (162).jpg', '1 (163).jpg', '1 (164).jpg', '1 (165).jpg', '1 (166).jpg', '1 (167).jpg', '1 (168).jpg', '1 (169).jpg', '1 (17).jpg', '1 (170).jpg', '1 (171).jpg', '1 (172).jpg', '1 (173).jpg', '1 (174).jpg', '1 (175).jpg', '1 (176).jpg', '1 (177).jpg', '1 (178).jpg', '1 (179).jpg', '1 (18).jpg', '1 (180).jpg', '1 (181).jpg', '1 (182).jpg', '1 (183).jpg', '1 (184).jpg', '1 (185).jpg', '1 (186).jpg', '1 (187).jpg', '1 (188).jpg', '1 (189).jpg', '1 (19).jpg', '1 (190).jpg', '1 (191).jpg', '1 (192).jpg', '1 (193).jpg', '1 (194).jpg', '1 (195).jpg', '1 (196).jpg', '1 (197).jpg', '1 (198).jpg', '1 (199).jpg', '1 (2).jpg', '1 (20).jpg', '1 (200).jpg', '1 (201).jpg', '1 (202).jpg', '1 (203).jpg', '1 (204).jpg', '1 (205).jpg', '1 (206).jpg', '1 (207).jpg', '1 (208).jpg', '1 (209).jpg', '1 (21).jpg', '1 (210).jpg', '1 (211).jpg', '1 (212).jpg', '1 (213).jpg', '1 (214).jpg', '1 (215).jpg', '1 (216).jpg', '1 (217).jpg', '1 (218).jpg', '1 (219).jpg', '1 (22).jpg', '1 (220).jpg', '1 (221).jpg', '1 (222).jpg', '1 (223).jpg', '1 (224).jpg', '1 (225).jpg', '1 (226).jpg', '1 (227).jpg', '1 (228).jpg', '1 (229).jpg', '1 (23).jpg', '1 (230).jpg', '1 (231).jpg', '1 (232).jpg', '1 (233).jpg', '1 (234).jpg', '1 (235).jpg', '1 (236).jpg', '1 (237).jpg', '1 (238).jpg', '1 (239).jpg', '1 (24).jpg', '1 (240).jpg', '1 (241).jpg', '1 (242).jpg', '1 (243).jpg', '1 (244).jpg', '1 (245).jpg', '1 (246).jpg', '1 (247).jpg', '1 (248).jpg', '1 (249).jpg', '1 (25).jpg', '1 (250).jpg', '1 (251).jpg', '1 (252).jpg', '1 (253).jpg', '1 (254).jpg', '1 (255).jpg', '1 (256).jpg', '1 (257).jpg', '1 (258).jpg', '1 (259).jpg', '1 (26).jpg', '1 (260).jpg', '1 (261).jpg', '1 (262).jpg', '1 (263).jpg', '1 (264).jpg', '1 (265).jpg', '1 (266).jpg', '1 (267).jpg', '1 (268).jpg', '1 (269).jpg', '1 (27).jpg', '1 (270).jpg', '1 (271).jpg', '1 (272).jpg', '1 (273).jpg', '1 (274).jpg', '1 (275).jpg', '1 (276).jpg', '1 (277).jpg', '1 (278).jpg', '1 (279).jpg', '1 (28).jpg', '1 (280).jpg', '1 (281).jpg', '1 (282).jpg', '1 (283).jpg', '1 (284).jpg', '1 (285).jpg', '1 (286).jpg', '1 (287).jpg', '1 (288).jpg', '1 (289).jpg', '1 (29).jpg', '1 (290).jpg', '1 (291).jpg', '1 (292).jpg', '1 (293).jpg', '1 (294).jpg', '1 (295).jpg', '1 (296).jpg', '1 (297).jpg', '1 (298).jpg', '1 (299).jpg', '1 (3).jpg', '1 (30).jpg', '1 (300).jpg', '1 (301).jpg', '1 (302).jpg', '1 (303).jpg', '1 (304).jpg', '1 (305).jpg', '1 (306).jpg', '1 (307).jpg', '1 (308).jpg', '1 (309).jpg', '1 (31).jpg', '1 (310).jpg', '1 (311).jpg', '1 (312).jpg', '1 (313).jpg', '1 (314).jpg', '1 (315).jpg', '1 (316).jpg', '1 (317).jpg', '1 (318).jpg', '1 (319).jpg', '1 (32).jpg', '1 (320).jpg', '1 (321).jpg', '1 (322).jpg', '1 (323).jpg', '1 (324).jpg', '1 (325).jpg', '1 (326).jpg', '1 (327).jpg', '1 (328).jpg', '1 (329).jpg', '1 (33).jpg', '1 (330).jpg', '1 (331).jpg', '1 (332).jpg', '1 (333).jpg', '1 (334).jpg', '1 (335).jpg', '1 (336).jpg', '1 (337).jpg', '1 (338).jpg', '1 (339).jpg', '1 (34).jpg', '1 (340).jpg', '1 (341).jpg', '1 (342).jpg', '1 (343).jpg', '1 (344).jpg', '1 (345).jpg', '1 (346).jpg', '1 (347).jpg', '1 (348).jpg', '1 (349).jpg', '1 (35).jpg', '1 (350).jpg', '1 (36).jpg', '1 (37).jpg', '1 (38).jpg', '1 (39).jpg', '1 (4).jpg', '1 (40).jpg', '1 (41).jpg', '1 (42).jpg', '1 (43).jpg', '1 (44).jpg', '1 (45).jpg', '1 (46).jpg', '1 (47).jpg', '1 (48).jpg', '1 (49).jpg', '1 (5).jpg', '1 (50).jpg', '1 (51).jpg', '1 (52).jpg', '1 (53).jpg', '1 (54).jpg', '1 (55).jpg', '1 (56).jpg', '1 (57).jpg', '1 (58).jpg', '1 (59).jpg', '1 (6).jpg', '1 (60).jpg', '1 (61).jpg', '1 (62).jpg', '1 (63).jpg', '1 (64).jpg', '1 (65).jpg', '1 (66).jpg', '1 (67).jpg', '1 (68).jpg', '1 (69).jpg', '1 (7).jpg', '1 (70).jpg', '1 (71).jpg', '1 (72).jpg', '1 (73).jpg', '1 (74).jpg', '1 (75).jpg', '1 (76).jpg', '1 (77).jpg', '1 (78).jpg', '1 (79).jpg', '1 (8).jpg', '1 (80).jpg', '1 (81).jpg', '1 (82).jpg', '1 (83).jpg', '1 (84).jpg', '1 (85).jpg', '1 (86).jpg', '1 (87).jpg', '1 (88).jpg', '1 (89).jpg', '1 (9).jpg', '1 (90).jpg', '1 (91).jpg', '1 (92).jpg', '1 (93).jpg', '1 (94).jpg', '1 (95).jpg', '1 (96).jpg', '1 (97).jpg', '1 (98).jpg', '1 (99).jpg']\n"
     ]
    }
   ],
   "source": [
    "files  = os.listdir('pelak/1') # list all files in the directory\n",
    "print(files) "
   ]
  },
  {
   "cell_type": "code",
   "execution_count": null,
   "metadata": {},
   "outputs": [],
   "source": [
    "#making dataset for the number 1\n",
    "x = np.empty((0, 256)) # create an empty array to store the images\n",
    "y = np.array([]) # create an empty array to store the labels\n",
    "\n",
    "for filename in files:\n",
    "    im = cv2.imread(\"pelak/1/\" + filename)\n",
    "    im2 = cv2.resize(im, (8,32)) # resize the image to 8x32 for every image\n",
    "    im3 = cv2.cvtColor(im2, cv2.COLOR_BGR2GRAY) # convert the image to gray (altering from 3d to 2d)\n",
    "    im4 = im3.flatten() # flatten the image to 1d\n",
    "    x =np.append(x, [im4], axis=0) # append the image to the dataset, axis=0 means we are adding a new row and im4 is the new row\n",
    "    y = np.append(y, 1) # append the label to the dataset\n"
   ]
  },
  {
   "cell_type": "code",
   "execution_count": 40,
   "metadata": {},
   "outputs": [
    {
     "data": {
      "text/plain": [
       "(350, 256)"
      ]
     },
     "execution_count": 40,
     "metadata": {},
     "output_type": "execute_result"
    }
   ],
   "source": [
    "x.shape #check to see if the dataset is correct (350 photo of 1d of 256)"
   ]
  },
  {
   "cell_type": "code",
   "execution_count": 41,
   "metadata": {},
   "outputs": [
    {
     "data": {
      "text/plain": [
       "(350,)"
      ]
     },
     "execution_count": 41,
     "metadata": {},
     "output_type": "execute_result"
    }
   ],
   "source": [
    "y.shape"
   ]
  },
  {
   "cell_type": "code",
   "execution_count": 42,
   "metadata": {},
   "outputs": [],
   "source": [
    "#making dataset for the number 2\n",
    "files = os.listdir('pelak/2') # list all files in the directory\n",
    "for filename in files:\n",
    "    im = cv2.imread(\"pelak/2/\" + filename)\n",
    "    im2 = cv2.resize(im, (8,32)) # resize the image to 8x32 for every image\n",
    "    im3 = cv2.cvtColor(im2, cv2.COLOR_BGR2GRAY) # convert the image to gray (altering from 3d to 2d)\n",
    "    im4 = im3.flatten() # flatten the image to 1d\n",
    "    x =np.append(x, [im4], axis=0) # append the image to the dataset, axis=0 means we are adding a new row and im4 is the new row\n",
    "    y = np.append(y, 2) # append the label to the dataset\n"
   ]
  },
  {
   "cell_type": "code",
   "execution_count": 43,
   "metadata": {},
   "outputs": [
    {
     "data": {
      "text/plain": [
       "(753, 256)"
      ]
     },
     "execution_count": 43,
     "metadata": {},
     "output_type": "execute_result"
    }
   ],
   "source": [
    "x.shape"
   ]
  },
  {
   "cell_type": "code",
   "execution_count": 45,
   "metadata": {},
   "outputs": [],
   "source": [
    "#dataset of 3\n",
    "files = os.listdir('pelak/3') # list all files in the directory\n",
    "for filename in files:\n",
    "    im = cv2.imread(\"pelak/3/\" + filename)\n",
    "    im2 = cv2.resize(im, (8,32)) # resize the image to 8x32 for every image\n",
    "    im3 = cv2.cvtColor(im2, cv2.COLOR_BGR2GRAY) # convert the image to gray (altering from 3d to 2d)\n",
    "    im4 = im3.flatten() # flatten the image to 1d\n",
    "    x =np.append(x, [im4], axis=0) # append the image to the dataset, axis=0 means we are adding a new row and im4 is the new row\n",
    "    y = np.append(y, 3) # append the label to the dataset\n",
    "\n",
    "\n",
    "files = os.listdir('pelak/4') # list all files in the directory\n",
    "for filename in files:\n",
    "    im = cv2.imread(\"pelak/4/\" + filename)\n",
    "    im2 = cv2.resize(im, (8,32)) # resize the image to 8x32 for every image\n",
    "    im3 = cv2.cvtColor(im2, cv2.COLOR_BGR2GRAY) # convert the image to gray (altering from 3d to 2d)\n",
    "    im4 = im3.flatten() # flatten the image to 1d\n",
    "    x =np.append(x, [im4], axis=0) # append the image to the dataset, axis=0 means we are adding a new row and im4 is the new row\n",
    "    y = np.append(y, 4) # append the label to the dataset\n",
    "\n",
    "\n",
    "files = os.listdir('pelak/5') # list all files in the directory\n",
    "for filename in files:\n",
    "    im = cv2.imread(\"pelak/5/\" + filename)\n",
    "    im2 = cv2.resize(im, (8,32)) # resize the image to 8x32 for every image\n",
    "    im3 = cv2.cvtColor(im2, cv2.COLOR_BGR2GRAY) # convert the image to gray (altering from 3d to 2d)\n",
    "    im4 = im3.flatten() # flatten the image to 1d\n",
    "    x =np.append(x, [im4], axis=0) # append the image to the dataset, axis=0 means we are adding a new row and im4 is the new row\n",
    "    y = np.append(y, 5) # append the label to the dataset\n",
    "\n",
    "\n",
    "\n",
    "files = os.listdir('pelak/6') # list all files in the directory\n",
    "for filename in files:\n",
    "    im = cv2.imread(\"pelak/6/\" + filename)\n",
    "    im2 = cv2.resize(im, (8,32)) # resize the image to 8x32 for every image\n",
    "    im3 = cv2.cvtColor(im2, cv2.COLOR_BGR2GRAY) # convert the image to gray (altering from 3d to 2d)\n",
    "    im4 = im3.flatten() # flatten the image to 1d\n",
    "    x =np.append(x, [im4], axis=0) # append the image to the dataset, axis=0 means we are adding a new row and im4 is the new row\n",
    "    y = np.append(y, 6) # append the label to the dataset\n",
    "\n",
    "\n",
    "\n",
    "files = os.listdir('pelak/7') # list all files in the directory\n",
    "for filename in files:\n",
    "    im = cv2.imread(\"pelak/7/\" + filename)\n",
    "    im2 = cv2.resize(im, (8,32)) # resize the image to 8x32 for every image\n",
    "    im3 = cv2.cvtColor(im2, cv2.COLOR_BGR2GRAY) # convert the image to gray (altering from 3d to 2d)\n",
    "    im4 = im3.flatten() # flatten the image to 1d\n",
    "    x =np.append(x, [im4], axis=0) # append the image to the dataset, axis=0 means we are adding a new row and im4 is the new row\n",
    "    y = np.append(y, 7) # append the label to the dataset\n",
    "\n",
    "\n",
    "files = os.listdir('pelak/8') # list all files in the directory\n",
    "for filename in files:\n",
    "    im = cv2.imread(\"pelak/8/\" + filename)\n",
    "    im2 = cv2.resize(im, (8,32)) # resize the image to 8x32 for every image\n",
    "    im3 = cv2.cvtColor(im2, cv2.COLOR_BGR2GRAY) # convert the image to gray (altering from 3d to 2d)\n",
    "    im4 = im3.flatten() # flatten the image to 1d\n",
    "    x =np.append(x, [im4], axis=0) # append the image to the dataset, axis=0 means we are adding a new row and im4 is the new row\n",
    "    y = np.append(y, 8) # append the label to the dataset\n",
    "\n",
    "\n",
    "files = os.listdir('pelak/9') # list all files in the directory\n",
    "for filename in files:\n",
    "    im = cv2.imread(\"pelak/9/\" + filename)\n",
    "    im2 = cv2.resize(im, (8,32)) # resize the image to 8x32 for every image\n",
    "    im3 = cv2.cvtColor(im2, cv2.COLOR_BGR2GRAY) # convert the image to gray (altering from 3d to 2d)\n",
    "    im4 = im3.flatten() # flatten the image to 1d\n",
    "    x =np.append(x, [im4], axis=0) # append the image to the dataset, axis=0 means we are adding a new row and im4 is the new row\n",
    "    y = np.append(y, 9) # append the label to the dataset\n"
   ]
  },
  {
   "cell_type": "code",
   "execution_count": 46,
   "metadata": {},
   "outputs": [
    {
     "data": {
      "text/plain": [
       "(3447, 256)"
      ]
     },
     "execution_count": 46,
     "metadata": {},
     "output_type": "execute_result"
    }
   ],
   "source": [
    "x.shape"
   ]
  },
  {
   "cell_type": "code",
   "execution_count": 48,
   "metadata": {},
   "outputs": [
    {
     "data": {
      "text/plain": [
       "(3447,)"
      ]
     },
     "execution_count": 48,
     "metadata": {},
     "output_type": "execute_result"
    }
   ],
   "source": [
    "y.shape"
   ]
  },
  {
   "cell_type": "code",
   "execution_count": 49,
   "metadata": {},
   "outputs": [],
   "source": [
    "from sklearn.linear_model import LogisticRegression\n",
    "from sklearn.model_selection import train_test_split"
   ]
  }
 ],
 "metadata": {
  "kernelspec": {
   "display_name": "base",
   "language": "python",
   "name": "python3"
  },
  "language_info": {
   "codemirror_mode": {
    "name": "ipython",
    "version": 3
   },
   "file_extension": ".py",
   "mimetype": "text/x-python",
   "name": "python",
   "nbconvert_exporter": "python",
   "pygments_lexer": "ipython3",
   "version": "3.8.8"
  }
 },
 "nbformat": 4,
 "nbformat_minor": 2
}
