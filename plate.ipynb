{
 "cells": [
  {
   "cell_type": "code",
   "execution_count": 46,
   "metadata": {},
   "outputs": [],
   "source": [
    "import cv2\n",
    "import numpy as np\n",
    "import os\n",
    "import matplotlib.pyplot as plt"
   ]
  },
  {
   "cell_type": "code",
   "execution_count": 47,
   "metadata": {},
   "outputs": [
    {
     "name": "stdout",
     "output_type": "stream",
     "text": [
      "Image loaded successfully.\n"
     ]
    }
   ],
   "source": [
    "#reading the image \n",
    "im = cv2.imread('pelak/1/1 (1).jpg')\n",
    "\n",
    "# check if the image was loaded successfully\n",
    "if im is None:\n",
    "\tprint(\"Failed to load the image.\")\n",
    "else:\n",
    "\tprint(\"Image loaded successfully.\")"
   ]
  },
  {
   "cell_type": "code",
   "execution_count": 48,
   "metadata": {},
   "outputs": [],
   "source": [
    "#displaying the image\n",
    "\n",
    "cv2.imshow('image', im)\n",
    "cv2.waitKey(0)\n",
    "cv2.destroyAllWindows()"
   ]
  },
  {
   "cell_type": "code",
   "execution_count": 49,
   "metadata": {},
   "outputs": [
    {
     "name": "stdout",
     "output_type": "stream",
     "text": [
      "['1 (1).jpg', '1 (10).jpg', '1 (100).jpg', '1 (101).jpg', '1 (102).jpg', '1 (103).jpg', '1 (104).jpg', '1 (105).jpg', '1 (106).jpg', '1 (107).jpg', '1 (108).jpg', '1 (109).jpg', '1 (11).jpg', '1 (110).jpg', '1 (111).jpg', '1 (112).jpg', '1 (113).jpg', '1 (114).jpg', '1 (115).jpg', '1 (116).jpg', '1 (117).jpg', '1 (118).jpg', '1 (119).jpg', '1 (12).jpg', '1 (120).jpg', '1 (121).jpg', '1 (122).jpg', '1 (123).jpg', '1 (124).jpg', '1 (125).jpg', '1 (126).jpg', '1 (127).jpg', '1 (128).jpg', '1 (129).jpg', '1 (13).jpg', '1 (130).jpg', '1 (131).jpg', '1 (132).jpg', '1 (133).jpg', '1 (134).jpg', '1 (135).jpg', '1 (136).jpg', '1 (137).jpg', '1 (138).jpg', '1 (139).jpg', '1 (14).jpg', '1 (140).jpg', '1 (141).jpg', '1 (142).jpg', '1 (143).jpg', '1 (144).jpg', '1 (145).jpg', '1 (146).jpg', '1 (147).jpg', '1 (148).jpg', '1 (149).jpg', '1 (15).jpg', '1 (150).jpg', '1 (151).jpg', '1 (152).jpg', '1 (153).jpg', '1 (154).jpg', '1 (155).jpg', '1 (156).jpg', '1 (157).jpg', '1 (158).jpg', '1 (159).jpg', '1 (16).jpg', '1 (160).jpg', '1 (161).jpg', '1 (162).jpg', '1 (163).jpg', '1 (164).jpg', '1 (165).jpg', '1 (166).jpg', '1 (167).jpg', '1 (168).jpg', '1 (169).jpg', '1 (17).jpg', '1 (170).jpg', '1 (171).jpg', '1 (172).jpg', '1 (173).jpg', '1 (174).jpg', '1 (175).jpg', '1 (176).jpg', '1 (177).jpg', '1 (178).jpg', '1 (179).jpg', '1 (18).jpg', '1 (180).jpg', '1 (181).jpg', '1 (182).jpg', '1 (183).jpg', '1 (184).jpg', '1 (185).jpg', '1 (186).jpg', '1 (187).jpg', '1 (188).jpg', '1 (189).jpg', '1 (19).jpg', '1 (190).jpg', '1 (191).jpg', '1 (192).jpg', '1 (193).jpg', '1 (194).jpg', '1 (195).jpg', '1 (196).jpg', '1 (197).jpg', '1 (198).jpg', '1 (199).jpg', '1 (2).jpg', '1 (20).jpg', '1 (200).jpg', '1 (201).jpg', '1 (202).jpg', '1 (203).jpg', '1 (204).jpg', '1 (205).jpg', '1 (206).jpg', '1 (207).jpg', '1 (208).jpg', '1 (209).jpg', '1 (21).jpg', '1 (210).jpg', '1 (211).jpg', '1 (212).jpg', '1 (213).jpg', '1 (214).jpg', '1 (215).jpg', '1 (216).jpg', '1 (217).jpg', '1 (218).jpg', '1 (219).jpg', '1 (22).jpg', '1 (220).jpg', '1 (221).jpg', '1 (222).jpg', '1 (223).jpg', '1 (224).jpg', '1 (225).jpg', '1 (226).jpg', '1 (227).jpg', '1 (228).jpg', '1 (229).jpg', '1 (23).jpg', '1 (230).jpg', '1 (231).jpg', '1 (232).jpg', '1 (233).jpg', '1 (234).jpg', '1 (235).jpg', '1 (236).jpg', '1 (237).jpg', '1 (238).jpg', '1 (239).jpg', '1 (24).jpg', '1 (240).jpg', '1 (241).jpg', '1 (242).jpg', '1 (243).jpg', '1 (244).jpg', '1 (245).jpg', '1 (246).jpg', '1 (247).jpg', '1 (248).jpg', '1 (249).jpg', '1 (25).jpg', '1 (250).jpg', '1 (251).jpg', '1 (252).jpg', '1 (253).jpg', '1 (254).jpg', '1 (255).jpg', '1 (256).jpg', '1 (257).jpg', '1 (258).jpg', '1 (259).jpg', '1 (26).jpg', '1 (260).jpg', '1 (261).jpg', '1 (262).jpg', '1 (263).jpg', '1 (264).jpg', '1 (265).jpg', '1 (266).jpg', '1 (267).jpg', '1 (268).jpg', '1 (269).jpg', '1 (27).jpg', '1 (270).jpg', '1 (271).jpg', '1 (272).jpg', '1 (273).jpg', '1 (274).jpg', '1 (275).jpg', '1 (276).jpg', '1 (277).jpg', '1 (278).jpg', '1 (279).jpg', '1 (28).jpg', '1 (280).jpg', '1 (281).jpg', '1 (282).jpg', '1 (283).jpg', '1 (284).jpg', '1 (285).jpg', '1 (286).jpg', '1 (287).jpg', '1 (288).jpg', '1 (289).jpg', '1 (29).jpg', '1 (290).jpg', '1 (291).jpg', '1 (292).jpg', '1 (293).jpg', '1 (294).jpg', '1 (295).jpg', '1 (296).jpg', '1 (297).jpg', '1 (298).jpg', '1 (299).jpg', '1 (3).jpg', '1 (30).jpg', '1 (300).jpg', '1 (301).jpg', '1 (302).jpg', '1 (303).jpg', '1 (304).jpg', '1 (305).jpg', '1 (306).jpg', '1 (307).jpg', '1 (308).jpg', '1 (309).jpg', '1 (31).jpg', '1 (310).jpg', '1 (311).jpg', '1 (312).jpg', '1 (313).jpg', '1 (314).jpg', '1 (315).jpg', '1 (316).jpg', '1 (317).jpg', '1 (318).jpg', '1 (319).jpg', '1 (32).jpg', '1 (320).jpg', '1 (321).jpg', '1 (322).jpg', '1 (323).jpg', '1 (324).jpg', '1 (325).jpg', '1 (326).jpg', '1 (327).jpg', '1 (328).jpg', '1 (329).jpg', '1 (33).jpg', '1 (330).jpg', '1 (331).jpg', '1 (332).jpg', '1 (333).jpg', '1 (334).jpg', '1 (335).jpg', '1 (336).jpg', '1 (337).jpg', '1 (338).jpg', '1 (339).jpg', '1 (34).jpg', '1 (340).jpg', '1 (341).jpg', '1 (342).jpg', '1 (343).jpg', '1 (344).jpg', '1 (345).jpg', '1 (346).jpg', '1 (347).jpg', '1 (348).jpg', '1 (349).jpg', '1 (35).jpg', '1 (350).jpg', '1 (36).jpg', '1 (37).jpg', '1 (38).jpg', '1 (39).jpg', '1 (4).jpg', '1 (40).jpg', '1 (41).jpg', '1 (42).jpg', '1 (43).jpg', '1 (44).jpg', '1 (45).jpg', '1 (46).jpg', '1 (47).jpg', '1 (48).jpg', '1 (49).jpg', '1 (5).jpg', '1 (50).jpg', '1 (51).jpg', '1 (52).jpg', '1 (53).jpg', '1 (54).jpg', '1 (55).jpg', '1 (56).jpg', '1 (57).jpg', '1 (58).jpg', '1 (59).jpg', '1 (6).jpg', '1 (60).jpg', '1 (61).jpg', '1 (62).jpg', '1 (63).jpg', '1 (64).jpg', '1 (65).jpg', '1 (66).jpg', '1 (67).jpg', '1 (68).jpg', '1 (69).jpg', '1 (7).jpg', '1 (70).jpg', '1 (71).jpg', '1 (72).jpg', '1 (73).jpg', '1 (74).jpg', '1 (75).jpg', '1 (76).jpg', '1 (77).jpg', '1 (78).jpg', '1 (79).jpg', '1 (8).jpg', '1 (80).jpg', '1 (81).jpg', '1 (82).jpg', '1 (83).jpg', '1 (84).jpg', '1 (85).jpg', '1 (86).jpg', '1 (87).jpg', '1 (88).jpg', '1 (89).jpg', '1 (9).jpg', '1 (90).jpg', '1 (91).jpg', '1 (92).jpg', '1 (93).jpg', '1 (94).jpg', '1 (95).jpg', '1 (96).jpg', '1 (97).jpg', '1 (98).jpg', '1 (99).jpg']\n"
     ]
    }
   ],
   "source": [
    "files  = os.listdir('pelak/1') # list all files in the directory\n",
    "print(files) "
   ]
  },
  {
   "cell_type": "code",
   "execution_count": 50,
   "metadata": {},
   "outputs": [],
   "source": [
    "#making dataset for the number 1\n",
    "x = np.empty((0, 256)) # create an empty array to store the images\n",
    "y = np.array([]) # create an empty array to store the labels\n",
    "\n",
    "for filename in files:\n",
    "    im = cv2.imread(\"pelak/1/\" + filename)\n",
    "    im2 = cv2.resize(im, (8,32)) # resize the image to 8x32 for every image\n",
    "    im3 = cv2.cvtColor(im2, cv2.COLOR_BGR2GRAY) # convert the image to gray (altering from 3d to 2d)\n",
    "    im4 = im3.flatten() # flatten the image to 1d\n",
    "    x =np.append(x, [im4], axis=0) # append the image to the dataset, axis=0 means we are adding a new row and im4 is the new row\n",
    "    y = np.append(y, 1) # append the label to the dataset\n"
   ]
  },
  {
   "cell_type": "code",
   "execution_count": 51,
   "metadata": {},
   "outputs": [
    {
     "data": {
      "text/plain": [
       "(350, 256)"
      ]
     },
     "execution_count": 51,
     "metadata": {},
     "output_type": "execute_result"
    }
   ],
   "source": [
    "x.shape #check to see if the dataset is correct (350 photo of 1d of 256)"
   ]
  },
  {
   "cell_type": "code",
   "execution_count": 52,
   "metadata": {},
   "outputs": [
    {
     "data": {
      "text/plain": [
       "(350,)"
      ]
     },
     "execution_count": 52,
     "metadata": {},
     "output_type": "execute_result"
    }
   ],
   "source": [
    "y.shape"
   ]
  },
  {
   "cell_type": "code",
   "execution_count": 53,
   "metadata": {},
   "outputs": [],
   "source": [
    "#making dataset for the number 2\n",
    "files = os.listdir('pelak/2') # list all files in the directory\n",
    "for filename in files:\n",
    "    im = cv2.imread(\"pelak/2/\" + filename)\n",
    "    im2 = cv2.resize(im, (8,32)) # resize the image to 8x32 for every image\n",
    "    im3 = cv2.cvtColor(im2, cv2.COLOR_BGR2GRAY) # convert the image to gray (altering from 3d to 2d)\n",
    "    im4 = im3.flatten() # flatten the image to 1d\n",
    "    x =np.append(x, [im4], axis=0) # append the image to the dataset, axis=0 means we are adding a new row and im4 is the new row\n",
    "    y = np.append(y, 2) # append the label to the dataset\n"
   ]
  },
  {
   "cell_type": "code",
   "execution_count": 54,
   "metadata": {},
   "outputs": [
    {
     "data": {
      "text/plain": [
       "(753, 256)"
      ]
     },
     "execution_count": 54,
     "metadata": {},
     "output_type": "execute_result"
    }
   ],
   "source": [
    "x.shape"
   ]
  },
  {
   "cell_type": "code",
   "execution_count": 55,
   "metadata": {},
   "outputs": [],
   "source": [
    "for k in range(3,10):\n",
    "    files = os.listdir('pelak/' + str(k)) # list all files in the directory\n",
    "    for filename in files:\n",
    "        im = cv2.imread(\"pelak/\" + str(k) + \"/\" + filename)\n",
    "        im2 = cv2.resize(im, (8,32)) # resize the image to 8x32 for every image\n",
    "        im3 = cv2.cvtColor(im2, cv2.COLOR_BGR2GRAY) # convert the image to gray (altering from 3d to 2d)\n",
    "        im4 = im3.flatten() # flatten the image to 1d\n",
    "        x =np.append(x, [im4], axis=0) # append the image to the dataset, axis=0 means we are adding a new row and im4 is the new row\n",
    "        y = np.append(y, k) # append the label to the dataset"
   ]
  },
  {
   "cell_type": "code",
   "execution_count": 73,
   "metadata": {},
   "outputs": [
    {
     "data": {
      "text/plain": [
       "(3101, 256)"
      ]
     },
     "execution_count": 73,
     "metadata": {},
     "output_type": "execute_result"
    }
   ],
   "source": [
    "x.shape"
   ]
  },
  {
   "cell_type": "code",
   "execution_count": 57,
   "metadata": {},
   "outputs": [
    {
     "data": {
      "text/plain": [
       "(3101,)"
      ]
     },
     "execution_count": 57,
     "metadata": {},
     "output_type": "execute_result"
    }
   ],
   "source": [
    "y.shape"
   ]
  },
  {
   "cell_type": "code",
   "execution_count": 58,
   "metadata": {},
   "outputs": [],
   "source": [
    "from sklearn.linear_model import LogisticRegression\n",
    "from sklearn.model_selection import train_test_split\n",
    "\n",
    "X_train, X_test, y_train, y_test = train_test_split(x,y, test_size=0.2, random_state=42)"
   ]
  },
  {
   "cell_type": "code",
   "execution_count": 59,
   "metadata": {},
   "outputs": [
    {
     "name": "stderr",
     "output_type": "stream",
     "text": [
      "C:\\Users\\USer\\AppData\\Roaming\\Python\\Python38\\site-packages\\sklearn\\linear_model\\_logistic.py:460: ConvergenceWarning: lbfgs failed to converge (status=1):\n",
      "STOP: TOTAL NO. of ITERATIONS REACHED LIMIT.\n",
      "\n",
      "Increase the number of iterations (max_iter) or scale the data as shown in:\n",
      "    https://scikit-learn.org/stable/modules/preprocessing.html\n",
      "Please also refer to the documentation for alternative solver options:\n",
      "    https://scikit-learn.org/stable/modules/linear_model.html#logistic-regression\n",
      "  n_iter_i = _check_optimize_result(\n"
     ]
    },
    {
     "data": {
      "text/html": [
       "<style>#sk-container-id-2 {color: black;}#sk-container-id-2 pre{padding: 0;}#sk-container-id-2 div.sk-toggleable {background-color: white;}#sk-container-id-2 label.sk-toggleable__label {cursor: pointer;display: block;width: 100%;margin-bottom: 0;padding: 0.3em;box-sizing: border-box;text-align: center;}#sk-container-id-2 label.sk-toggleable__label-arrow:before {content: \"▸\";float: left;margin-right: 0.25em;color: #696969;}#sk-container-id-2 label.sk-toggleable__label-arrow:hover:before {color: black;}#sk-container-id-2 div.sk-estimator:hover label.sk-toggleable__label-arrow:before {color: black;}#sk-container-id-2 div.sk-toggleable__content {max-height: 0;max-width: 0;overflow: hidden;text-align: left;background-color: #f0f8ff;}#sk-container-id-2 div.sk-toggleable__content pre {margin: 0.2em;color: black;border-radius: 0.25em;background-color: #f0f8ff;}#sk-container-id-2 input.sk-toggleable__control:checked~div.sk-toggleable__content {max-height: 200px;max-width: 100%;overflow: auto;}#sk-container-id-2 input.sk-toggleable__control:checked~label.sk-toggleable__label-arrow:before {content: \"▾\";}#sk-container-id-2 div.sk-estimator input.sk-toggleable__control:checked~label.sk-toggleable__label {background-color: #d4ebff;}#sk-container-id-2 div.sk-label input.sk-toggleable__control:checked~label.sk-toggleable__label {background-color: #d4ebff;}#sk-container-id-2 input.sk-hidden--visually {border: 0;clip: rect(1px 1px 1px 1px);clip: rect(1px, 1px, 1px, 1px);height: 1px;margin: -1px;overflow: hidden;padding: 0;position: absolute;width: 1px;}#sk-container-id-2 div.sk-estimator {font-family: monospace;background-color: #f0f8ff;border: 1px dotted black;border-radius: 0.25em;box-sizing: border-box;margin-bottom: 0.5em;}#sk-container-id-2 div.sk-estimator:hover {background-color: #d4ebff;}#sk-container-id-2 div.sk-parallel-item::after {content: \"\";width: 100%;border-bottom: 1px solid gray;flex-grow: 1;}#sk-container-id-2 div.sk-label:hover label.sk-toggleable__label {background-color: #d4ebff;}#sk-container-id-2 div.sk-serial::before {content: \"\";position: absolute;border-left: 1px solid gray;box-sizing: border-box;top: 0;bottom: 0;left: 50%;z-index: 0;}#sk-container-id-2 div.sk-serial {display: flex;flex-direction: column;align-items: center;background-color: white;padding-right: 0.2em;padding-left: 0.2em;position: relative;}#sk-container-id-2 div.sk-item {position: relative;z-index: 1;}#sk-container-id-2 div.sk-parallel {display: flex;align-items: stretch;justify-content: center;background-color: white;position: relative;}#sk-container-id-2 div.sk-item::before, #sk-container-id-2 div.sk-parallel-item::before {content: \"\";position: absolute;border-left: 1px solid gray;box-sizing: border-box;top: 0;bottom: 0;left: 50%;z-index: -1;}#sk-container-id-2 div.sk-parallel-item {display: flex;flex-direction: column;z-index: 1;position: relative;background-color: white;}#sk-container-id-2 div.sk-parallel-item:first-child::after {align-self: flex-end;width: 50%;}#sk-container-id-2 div.sk-parallel-item:last-child::after {align-self: flex-start;width: 50%;}#sk-container-id-2 div.sk-parallel-item:only-child::after {width: 0;}#sk-container-id-2 div.sk-dashed-wrapped {border: 1px dashed gray;margin: 0 0.4em 0.5em 0.4em;box-sizing: border-box;padding-bottom: 0.4em;background-color: white;}#sk-container-id-2 div.sk-label label {font-family: monospace;font-weight: bold;display: inline-block;line-height: 1.2em;}#sk-container-id-2 div.sk-label-container {text-align: center;}#sk-container-id-2 div.sk-container {/* jupyter's `normalize.less` sets `[hidden] { display: none; }` but bootstrap.min.css set `[hidden] { display: none !important; }` so we also need the `!important` here to be able to override the default hidden behavior on the sphinx rendered scikit-learn.org. See: https://github.com/scikit-learn/scikit-learn/issues/21755 */display: inline-block !important;position: relative;}#sk-container-id-2 div.sk-text-repr-fallback {display: none;}</style><div id=\"sk-container-id-2\" class=\"sk-top-container\"><div class=\"sk-text-repr-fallback\"><pre>LogisticRegression()</pre><b>In a Jupyter environment, please rerun this cell to show the HTML representation or trust the notebook. <br />On GitHub, the HTML representation is unable to render, please try loading this page with nbviewer.org.</b></div><div class=\"sk-container\" hidden><div class=\"sk-item\"><div class=\"sk-estimator sk-toggleable\"><input class=\"sk-toggleable__control sk-hidden--visually\" id=\"sk-estimator-id-2\" type=\"checkbox\" checked><label for=\"sk-estimator-id-2\" class=\"sk-toggleable__label sk-toggleable__label-arrow\">LogisticRegression</label><div class=\"sk-toggleable__content\"><pre>LogisticRegression()</pre></div></div></div></div></div>"
      ],
      "text/plain": [
       "LogisticRegression()"
      ]
     },
     "execution_count": 59,
     "metadata": {},
     "output_type": "execute_result"
    }
   ],
   "source": [
    "model = LogisticRegression()\n",
    "model.fit(X_train, y_train)\n"
   ]
  },
  {
   "cell_type": "code",
   "execution_count": 60,
   "metadata": {},
   "outputs": [],
   "source": [
    "out = model.predict(X_test)"
   ]
  },
  {
   "cell_type": "code",
   "execution_count": 61,
   "metadata": {},
   "outputs": [
    {
     "name": "stdout",
     "output_type": "stream",
     "text": [
      "Accuracy:  0.9066022544283414\n"
     ]
    }
   ],
   "source": [
    "accuracy = model.score(X_test, y_test)\n",
    "print(\"Accuracy: \", accuracy)"
   ]
  },
  {
   "cell_type": "code",
   "execution_count": 62,
   "metadata": {},
   "outputs": [],
   "source": [
    "img = cv2.imread('pelak.png', 0) #0 is for gray\n",
    "\n",
    "cv2.imshow('image', img)\n",
    "cv2.waitKey(0)\n",
    "cv2.destroyAllWindows()"
   ]
  },
  {
   "cell_type": "code",
   "execution_count": 33,
   "metadata": {},
   "outputs": [
    {
     "data": {
      "text/plain": [
       "(90, 411)"
      ]
     },
     "execution_count": 33,
     "metadata": {},
     "output_type": "execute_result"
    }
   ],
   "source": [
    "img.shape"
   ]
  },
  {
   "cell_type": "code",
   "execution_count": 63,
   "metadata": {},
   "outputs": [
    {
     "data": {
      "text/plain": [
       "array([[7.25490196e-01, 1.61568627e+00, 2.78823529e+00, 4.43921569e+00,\n",
       "        4.36470588e+00, 3.77254902e+00, 4.54117647e+00, 7.02745098e+00,\n",
       "        9.80392157e+00, 1.19607843e+01, 1.38941176e+01, 1.76196078e+01,\n",
       "        2.14392157e+01, 2.48078431e+01, 2.80549020e+01, 3.16392157e+01,\n",
       "        3.54274510e+01, 4.21294118e+01, 5.16313725e+01, 5.64745098e+01,\n",
       "        5.43882353e+01, 5.19647059e+01, 4.90470588e+01, 4.61254902e+01,\n",
       "        4.24392157e+01, 3.82078431e+01, 3.34666667e+01, 2.82156863e+01,\n",
       "        2.04980392e+01, 7.44705882e+00, 1.56862745e-01, 0.00000000e+00,\n",
       "        0.00000000e+00, 0.00000000e+00, 0.00000000e+00, 0.00000000e+00,\n",
       "        0.00000000e+00, 0.00000000e+00, 0.00000000e+00, 0.00000000e+00,\n",
       "        0.00000000e+00, 0.00000000e+00, 0.00000000e+00, 0.00000000e+00,\n",
       "        0.00000000e+00, 0.00000000e+00, 0.00000000e+00, 0.00000000e+00,\n",
       "        0.00000000e+00, 2.78431373e-01, 1.93725490e+00, 5.16862745e+00,\n",
       "        8.32549020e+00, 1.16117647e+01, 1.50784314e+01, 1.86313725e+01,\n",
       "        2.30196078e+01, 2.66509804e+01, 3.01607843e+01, 3.34705882e+01,\n",
       "        3.73882353e+01, 4.32901961e+01, 5.16549020e+01, 5.55254902e+01,\n",
       "        5.34470588e+01, 5.15450980e+01, 5.04039216e+01, 4.96431373e+01,\n",
       "        4.90588235e+01, 4.77960784e+01, 4.40274510e+01, 3.77019608e+01,\n",
       "        2.64549020e+01, 1.53254902e+01, 1.11294118e+01, 1.09490196e+01,\n",
       "        1.10745098e+01, 1.12313725e+01, 1.17333333e+01, 1.24549020e+01,\n",
       "        1.39803922e+01, 1.94156863e+01, 2.51568627e+01, 2.56078431e+01,\n",
       "        2.59960784e+01, 2.62627451e+01, 2.61960784e+01, 2.53803922e+01,\n",
       "        2.33058824e+01, 1.79568627e+01, 6.69019608e+00, 2.10196078e+00,\n",
       "        6.24705882e+00, 1.18313725e+01, 1.37176471e+01, 1.52588235e+01,\n",
       "        1.64627451e+01, 1.73450980e+01, 1.78627451e+01, 1.83450980e+01,\n",
       "        1.88627451e+01, 1.64745098e+01, 1.36549020e+01, 1.25411765e+01,\n",
       "        1.16666667e+01, 1.11529412e+01, 1.07176471e+01, 1.04117647e+01,\n",
       "        1.03333333e+01, 1.03333333e+01, 1.03333333e+01, 1.03333333e+01,\n",
       "        1.03333333e+01, 1.03333333e+01, 1.03333333e+01, 1.03333333e+01,\n",
       "        1.03333333e+01, 1.03333333e+01, 1.03333333e+01, 1.03333333e+01,\n",
       "        1.03333333e+01, 1.04039216e+01, 1.47372549e+01, 1.90941176e+01,\n",
       "        1.98627451e+01, 1.98627451e+01, 1.98627451e+01, 1.98627451e+01,\n",
       "        1.98627451e+01, 1.98627451e+01, 1.98627451e+01, 1.98627451e+01,\n",
       "        1.45411765e+01, 1.10313725e+01, 1.03333333e+01, 1.03333333e+01,\n",
       "        1.03333333e+01, 1.03333333e+01, 1.03333333e+01, 1.03333333e+01,\n",
       "        1.03333333e+01, 1.03333333e+01, 1.16117647e+01, 1.44941176e+01,\n",
       "        1.78509804e+01, 2.07058824e+01, 2.38862745e+01, 2.77882353e+01,\n",
       "        2.94549020e+01, 2.95960784e+01, 2.92941176e+01, 2.79803922e+01,\n",
       "        2.58274510e+01, 2.34980392e+01, 2.08352941e+01, 1.78117647e+01,\n",
       "        1.37176471e+01, 3.98823529e+00, 0.00000000e+00, 0.00000000e+00,\n",
       "        0.00000000e+00, 0.00000000e+00, 5.17647059e-01, 4.11372549e+00,\n",
       "        7.42745098e+00, 1.10980392e+01, 1.45843137e+01, 1.82941176e+01,\n",
       "        2.22784314e+01, 2.51921569e+01, 2.81254902e+01, 3.06509804e+01,\n",
       "        3.25647059e+01, 3.42313725e+01, 3.77137255e+01, 4.29137255e+01,\n",
       "        5.11529412e+01, 5.16470588e+01, 5.01019608e+01, 4.90352941e+01,\n",
       "        4.84313725e+01, 4.78000000e+01, 4.71725490e+01, 4.40156863e+01,\n",
       "        4.08235294e+01, 4.05764706e+01, 3.73921569e+01, 2.45686275e+01,\n",
       "        2.41803922e+01, 2.36627451e+01, 2.27058824e+01, 2.17058824e+01,\n",
       "        2.16627451e+01, 2.23176471e+01, 1.33803922e+01, 1.08156863e+01,\n",
       "        9.81568627e+00, 9.45490196e+00, 9.78823529e+00, 1.06745098e+01,\n",
       "        1.57647059e+01, 2.17372549e+01, 2.22117647e+01, 2.24313725e+01,\n",
       "        2.27725490e+01, 2.27686275e+01, 2.16666667e+01, 1.92274510e+01,\n",
       "        1.20392157e+01, 1.54117647e+00, 0.00000000e+00, 0.00000000e+00,\n",
       "        5.49019608e-02, 1.42745098e+00, 5.68627451e+00, 1.54352941e+01,\n",
       "        2.42039216e+01, 2.98784314e+01, 3.50745098e+01, 3.90549020e+01,\n",
       "        4.27058824e+01, 4.49647059e+01, 4.64980392e+01, 4.65058824e+01,\n",
       "        4.65686275e+01, 4.47411765e+01, 4.23607843e+01, 4.07921569e+01,\n",
       "        3.96392157e+01, 3.83803922e+01, 3.77372549e+01, 3.60313725e+01,\n",
       "        3.41215686e+01, 3.33686275e+01, 3.17058824e+01, 3.06000000e+01,\n",
       "        2.93098039e+01, 2.81019608e+01, 2.70823529e+01, 2.62000000e+01,\n",
       "        2.59529412e+01, 2.57450980e+01, 2.48901961e+01, 2.42627451e+01,\n",
       "        2.36313725e+01, 2.19098039e+01, 1.93803922e+01, 1.55921569e+01,\n",
       "        1.33882353e+01, 1.26274510e+01, 1.23960784e+01, 1.20156863e+01,\n",
       "        1.20117647e+01, 1.17019608e+01, 1.12039216e+01, 1.06549020e+01,\n",
       "        9.77647059e+00, 7.63921569e+00, 3.94901961e+00, 1.00000000e+00,\n",
       "        0.00000000e+00, 0.00000000e+00, 1.49019608e-01, 2.38823529e+00,\n",
       "        1.10000000e+01, 1.99294118e+01, 2.50784314e+01, 2.86745098e+01,\n",
       "        3.22235294e+01, 3.53529412e+01, 3.80117647e+01, 4.12392157e+01,\n",
       "        4.62470588e+01, 4.75764706e+01, 4.58705882e+01, 4.56901961e+01,\n",
       "        4.48509804e+01, 4.24196078e+01, 3.89803922e+01, 3.63019608e+01,\n",
       "        3.36862745e+01, 3.09921569e+01, 2.80470588e+01, 2.62549020e+01,\n",
       "        2.57686275e+01, 2.60313725e+01, 2.61098039e+01, 2.65098039e+01,\n",
       "        2.69176471e+01, 2.75686275e+01, 2.77294118e+01, 2.80156863e+01,\n",
       "        2.84470588e+01, 2.89647059e+01, 2.98313725e+01, 3.10039216e+01,\n",
       "        3.22235294e+01, 3.40901961e+01, 3.70901961e+01, 3.88313725e+01,\n",
       "        3.72823529e+01, 3.49372549e+01, 3.28431373e+01, 3.05254902e+01,\n",
       "        2.78117647e+01, 2.43882353e+01, 2.00901961e+01, 1.45568627e+01,\n",
       "        5.01568627e+00, 2.31372549e-01, 0.00000000e+00, 0.00000000e+00,\n",
       "        0.00000000e+00, 1.37647059e+01, 5.47058824e+01, 9.00000000e+01,\n",
       "        9.00000000e+01, 6.03529412e+01, 1.65568627e+01, 0.00000000e+00,\n",
       "        0.00000000e+00, 0.00000000e+00, 0.00000000e+00, 0.00000000e+00,\n",
       "        0.00000000e+00, 0.00000000e+00, 2.41176471e+00, 8.87843137e+00,\n",
       "        1.56705882e+01, 1.69490196e+01, 1.57294118e+01, 1.66039216e+01,\n",
       "        1.98549020e+01, 2.33568627e+01, 2.64196078e+01, 3.06980392e+01,\n",
       "        3.42274510e+01, 3.59725490e+01, 3.78274510e+01, 3.99686275e+01,\n",
       "        4.52627451e+01, 5.19882353e+01, 5.44078431e+01, 5.26274510e+01,\n",
       "        5.50313725e+01, 5.66470588e+01, 5.35882353e+01, 4.59843137e+01,\n",
       "        3.70980392e+01, 3.19019608e+01, 2.79176471e+01, 2.17647059e+01,\n",
       "        8.17254902e+00, 8.72941176e+00, 1.32509804e+01, 1.31843137e+01,\n",
       "        3.12549020e+00, 0.00000000e+00, 5.49019608e-02, 1.37254902e-01,\n",
       "        2.00000000e-01, 6.94117647e-01, 2.51372549e+00, 4.66666667e+00,\n",
       "        6.20000000e+00, 6.96078431e+00, 6.49803922e+00, 6.21176471e+00,\n",
       "        6.41960784e+00, 6.21176471e+00, 8.96470588e+00, 1.18039216e+01,\n",
       "        1.22117647e+01, 1.02901961e+01, 6.04705882e+00, 5.81960784e+00,\n",
       "        8.68235294e+00, 1.17960784e+01, 1.48588235e+01, 1.82862745e+01,\n",
       "        2.17019608e+01, 2.61529412e+01, 3.05333333e+01, 3.37803922e+01,\n",
       "        3.45490196e+01, 3.45490196e+01, 3.73843137e+01, 4.34117647e+01,\n",
       "        5.12431373e+01, 5.93372549e+01, 6.03294118e+01, 5.49647059e+01,\n",
       "        4.71568627e+01, 4.43490196e+01, 4.17843137e+01, 3.90549020e+01,\n",
       "        3.49098039e+01, 3.59686275e+01, 3.90313725e+01, 3.30078431e+01,\n",
       "        1.13137255e+01, 3.29411765e-01, 0.00000000e+00, 0.00000000e+00,\n",
       "        0.00000000e+00, 0.00000000e+00, 0.00000000e+00, 0.00000000e+00,\n",
       "        0.00000000e+00, 0.00000000e+00, 0.00000000e+00]])"
      ]
     },
     "execution_count": 63,
     "metadata": {},
     "output_type": "execute_result"
    }
   ],
   "source": [
    "s = 90- np.sum(img, axis=0, keepdims=True)/255 # sum the image to get the vertical line\n",
    "s"
   ]
  },
  {
   "cell_type": "code",
   "execution_count": 64,
   "metadata": {},
   "outputs": [
    {
     "data": {
      "image/png": "[encoded data removed]",
      "text/plain": [
       "<Figure size 432x288 with 1 Axes>"
      ]
     },
     "metadata": {
      "needs_background": "light"
     },
     "output_type": "display_data"
    }
   ],
   "source": [
    "plt.plot(s[0]) # plot the sum of the image\n",
    "plt.show()"
   ]
  },
  {
   "cell_type": "code",
   "execution_count": 66,
   "metadata": {},
   "outputs": [],
   "source": [
    "plak = img.copy()\n",
    "\n",
    "# find the first and last non-zero pixel in each column to get each numbet in plate\n",
    "img = cv2.line(img, (38,0), (38,90), (0,255,0), 2) # draw a line to separate the numbers\n",
    "cv2.imshow('image', img)\n",
    "cv2.waitKey(0)\n",
    "cv2.destroyAllWindows()"
   ]
  },
  {
   "cell_type": "code",
   "execution_count": 74,
   "metadata": {},
   "outputs": [
    {
     "name": "stdout",
     "output_type": "stream",
     "text": [
      "[9.]\n",
      "[9.]\n",
      "[9.]\n",
      "[9.]\n",
      "[9.]\n",
      "[9.]\n",
      "[9.]\n",
      "[9.]\n",
      "[9.]\n"
     ]
    }
   ],
   "source": [
    "# find the first and last non-zero pixel in each column to get each number in plate\n",
    "xi = 0 \n",
    "flag1 = False\n",
    "flag2 = False\n",
    "xi1 = 0\n",
    "xi2 = 0\n",
    "img_ar = []\n",
    "\n",
    "for i in s[0]:\n",
    "    xi += 1\n",
    "\n",
    "    if i > 9 and flag1 and not flag2:\n",
    "        flag2 = True\n",
    "\n",
    "    if i < 5:\n",
    "        img = cv2.line(img, (xi, 0), (xi, 90), (0, 0, 255), 2)\n",
    "\n",
    "        if not flag1:\n",
    "            xi1 = xi\n",
    "            \n",
    "        if flag2:\n",
    "            xi2 = xi\n",
    "            flag2 = False\n",
    "            flag1 = False\n",
    "            img1 = img[:, xi1:xi2]\n",
    "            x1 = np.empty((0, 256))\n",
    "            im2 = cv2.resize(img1, (8, 32)) # resize the image to 8x32 for every image\n",
    "            im4 = im3.flatten() # flatten the image to 1d\n",
    "            x1 = np.append(x1, [im4], axis=0) # append the image to the dataset, axis=0 means we are adding a new row and im4 is the new row\n",
    "            result = model.predict(x1)\n",
    "            print(result)\n",
    "            #print(xi1, xi2)\n",
    "            cv2.imshow('image', img1)\n",
    "            cv2.waitKey(0)\n",
    "            cv2.destroyAllWindows()\n",
    "\n",
    "            xi1 = xi2\n",
    "\n",
    "        flag1 = True\n",
    "\n",
    "cv2.imshow('image', img)\n",
    "cv2.waitKey(0)\n",
    "cv2.destroyAllWindows()"
   ]
  },
  {
   "cell_type": "code",
   "execution_count": null,
   "metadata": {},
   "outputs": [],
   "source": []
  }
 ],
 "metadata": {
  "kernelspec": {
   "display_name": "base",
   "language": "python",
   "name": "python3"
  },
  "language_info": {
   "codemirror_mode": {
    "name": "ipython",
    "version": 3
   },
   "file_extension": ".py",
   "mimetype": "text/x-python",
   "name": "python",
   "nbconvert_exporter": "python",
   "pygments_lexer": "ipython3",
   "version": "3.8.8"
  }
 },
 "nbformat": 4,
 "nbformat_minor": 2
}
